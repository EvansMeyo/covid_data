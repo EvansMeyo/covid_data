{
 "cells": [
  {
   "cell_type": "code",
   "execution_count": 28,
   "id": "9d006223-314f-42cb-94f5-6fd782b075bc",
   "metadata": {},
   "outputs": [],
   "source": [
    "#import libraries\n",
    "import pandas as pd\n",
    "from sqlalchemy import create_engine"
   ]
  },
  {
   "cell_type": "code",
   "execution_count": 29,
   "id": "f7c72b72-c3ca-4a14-b65d-6e0d7540928f",
   "metadata": {},
   "outputs": [],
   "source": [
    "#Define sql username, password,host, database and table names\n",
    "Username='root'\n",
    "Password='1234'\n",
    "host='localhost'\n",
    "Database='covid1'\n",
    "table_names=['deaths', 'vaccinations']"
   ]
  },
  {
   "cell_type": "code",
   "execution_count": 30,
   "id": "fa02e22c-7809-46d6-a260-c46e21b03013",
   "metadata": {},
   "outputs": [],
   "source": [
    "#Create a connection\n",
    "conn=f'mysql+mysqlconnector://{Username}:{Password}@{host}/{Database}'"
   ]
  },
  {
   "cell_type": "code",
   "execution_count": 31,
   "id": "03315808-d4f4-455a-a7ca-c692ab7c7d8d",
   "metadata": {},
   "outputs": [],
   "source": [
    "#Create engine\n",
    "engine=create_engine(conn)"
   ]
  },
  {
   "cell_type": "code",
   "execution_count": 32,
   "id": "464a75da-f786-4669-89b8-10450a715d94",
   "metadata": {},
   "outputs": [],
   "source": [
    "#read the files\n",
    "df=pd.read_excel(r\"C:\\Users\\Admin\\Desktop\\Project\\CovidDeaths.xlsx\")\n",
    "df1=pd.read_excel(r\"C:\\Users\\Admin\\Desktop\\Project\\CovidVaccinations.xlsx\")"
   ]
  },
  {
   "cell_type": "code",
   "execution_count": 40,
   "id": "e704384a-c151-4835-90ab-5c846b2f4479",
   "metadata": {},
   "outputs": [],
   "source": [
    "#transfer files to sql\n",
    "def t (df,table_names):\n",
    "  \n",
    "  df.to_sql(name=table_names, con=engine, if_exists='replace',index=False)\n",
    "  print(f'covid1  {table_names} table succesfully transffered')\n",
    "  return df"
   ]
  },
  {
   "cell_type": "code",
   "execution_count": 41,
   "id": "39820087-3cb5-49c3-ab1b-8ea5f31db45c",
   "metadata": {},
   "outputs": [
    {
     "name": "stdout",
     "output_type": "stream",
     "text": [
      "covid1  deaths table succesfully transffered\n",
      "covid1  vaccinations table succesfully transffered\n"
     ]
    }
   ],
   "source": [
    "df=t(df,'deaths')\n",
    "df1=t(df1,'vaccinations')"
   ]
  },
  {
   "cell_type": "code",
   "execution_count": null,
   "id": "eb05dd27-7503-4679-a06b-368eddf81e6f",
   "metadata": {},
   "outputs": [],
   "source": []
  }
 ],
 "metadata": {
  "kernelspec": {
   "display_name": "Python 3 (ipykernel)",
   "language": "python",
   "name": "python3"
  },
  "language_info": {
   "codemirror_mode": {
    "name": "ipython",
    "version": 3
   },
   "file_extension": ".py",
   "mimetype": "text/x-python",
   "name": "python",
   "nbconvert_exporter": "python",
   "pygments_lexer": "ipython3",
   "version": "3.11.7"
  }
 },
 "nbformat": 4,
 "nbformat_minor": 5
}
